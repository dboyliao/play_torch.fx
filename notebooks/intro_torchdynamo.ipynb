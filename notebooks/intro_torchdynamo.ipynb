{
 "cells": [
  {
   "cell_type": "markdown",
   "id": "2d006a67-ad7e-4e0a-95f3-771c447dadb0",
   "metadata": {
    "deletable": true,
    "editable": true,
    "frozen": false,
    "slideshow": {
     "slide_type": "slide"
    },
    "tags": []
   },
   "source": [
    "# `TorchDynamo`\n",
    "## and (Maybe) PEP-523\n",
    "\n",
    "Dboy Liao"
   ]
  },
  {
   "cell_type": "markdown",
   "id": "3dd4db94-f339-47ec-9772-f0aba7776216",
   "metadata": {
    "deletable": true,
    "editable": true,
    "frozen": false,
    "slideshow": {
     "slide_type": "slide"
    },
    "tags": []
   },
   "source": [
    "## `TorchDynamo`"
   ]
  },
  {
   "cell_type": "markdown",
   "id": "e5714043-3633-44fb-8f8a-74bf03e84c6a",
   "metadata": {
    "deletable": true,
    "editable": true,
    "frozen": false,
    "slideshow": {
     "slide_type": "fragment"
    },
    "tags": []
   },
   "source": [
    "- What?\n",
    "   - What is `TorchDynamo`?\n",
    "   - What can it do?"
   ]
  },
  {
   "cell_type": "markdown",
   "id": "0594e7c3-78bf-45eb-880d-4fb8934ef71c",
   "metadata": {
    "deletable": true,
    "editable": true,
    "frozen": false,
    "slideshow": {
     "slide_type": "fragment"
    },
    "tags": []
   },
   "source": [
    "- Why?"
   ]
  },
  {
   "cell_type": "markdown",
   "id": "390433a2-62cc-43a5-840e-c139b6c45ab9",
   "metadata": {
    "deletable": true,
    "editable": true,
    "frozen": false,
    "slideshow": {
     "slide_type": "fragment"
    },
    "tags": []
   },
   "source": [
    "- (Maybe) How?\n",
    "    - [PEP-523](https://peps.python.org/pep-0523/)"
   ]
  },
  {
   "cell_type": "markdown",
   "id": "cc1c80b2-e073-43dd-a3d4-22734beee9f0",
   "metadata": {
    "deletable": true,
    "editable": true,
    "frozen": false,
    "slideshow": {
     "slide_type": "subslide"
    },
    "tags": []
   },
   "source": [
    "## `TorchDynamo`: JIT Compiler Framework\n",
    "\n",
    "- The workhorse for `torch.compile` under the hook\n",
    "    - A Python-to-Python JIT compiler\n",
    "\n",
    "![torchdynamo-jit](img/torchdynamo_jit.drawio.svg)"
   ]
  },
  {
   "cell_type": "code",
   "execution_count": 1,
   "id": "6372bd5e-b629-4173-b24a-a0fef4ea34d0",
   "metadata": {
    "deletable": true,
    "editable": true,
    "execution": {
     "iopub.execute_input": "2024-11-10T03:45:04.029232Z",
     "iopub.status.busy": "2024-11-10T03:45:04.028411Z",
     "iopub.status.idle": "2024-11-10T03:45:07.590116Z",
     "shell.execute_reply": "2024-11-10T03:45:07.588503Z",
     "shell.execute_reply.started": "2024-11-10T03:45:04.029140Z"
    },
    "frozen": false,
    "slideshow": {
     "slide_type": "skip"
    },
    "tags": []
   },
   "outputs": [],
   "source": [
    "import torch"
   ]
  },
  {
   "cell_type": "code",
   "execution_count": 2,
   "id": "170996a0-5a9f-4470-8dce-ec66a7ac8b9c",
   "metadata": {
    "deletable": true,
    "editable": true,
    "execution": {
     "iopub.execute_input": "2024-11-10T03:45:07.592633Z",
     "iopub.status.busy": "2024-11-10T03:45:07.591935Z",
     "iopub.status.idle": "2024-11-10T03:45:15.489864Z",
     "shell.execute_reply": "2024-11-10T03:45:15.487151Z",
     "shell.execute_reply.started": "2024-11-10T03:45:07.592574Z"
    },
    "frozen": false,
    "slideshow": {
     "slide_type": "subslide"
    },
    "tags": []
   },
   "outputs": [],
   "source": [
    "# A toy example\n",
    "def foo(a: torch.Tensor, b: torch.Tensor):\n",
    "    return torch.add(a, b)\n",
    "\n",
    "# foo_ is compiled version of foo (JIT-enabled)\n",
    "foo_ = torch.compile(foo)"
   ]
  },
  {
   "cell_type": "code",
   "execution_count": 3,
   "id": "f7cf41aa-df34-428e-b3e8-c7afd1693702",
   "metadata": {
    "deletable": true,
    "editable": true,
    "execution": {
     "iopub.execute_input": "2024-11-10T03:45:15.493099Z",
     "iopub.status.busy": "2024-11-10T03:45:15.492164Z",
     "iopub.status.idle": "2024-11-10T03:45:15.501154Z",
     "shell.execute_reply": "2024-11-10T03:45:15.499653Z",
     "shell.execute_reply.started": "2024-11-10T03:45:15.493023Z"
    },
    "frozen": false,
    "slideshow": {
     "slide_type": "fragment"
    },
    "tags": []
   },
   "outputs": [],
   "source": [
    "a = torch.randn(3, 4)\n",
    "b = torch.randn(3, 4)"
   ]
  },
  {
   "cell_type": "code",
   "execution_count": 4,
   "id": "78730c91-f9fe-45ec-8691-169b516720e8",
   "metadata": {
    "deletable": true,
    "editable": true,
    "execution": {
     "iopub.execute_input": "2024-11-10T03:45:15.503351Z",
     "iopub.status.busy": "2024-11-10T03:45:15.502680Z",
     "iopub.status.idle": "2024-11-10T03:45:15.529338Z",
     "shell.execute_reply": "2024-11-10T03:45:15.528021Z",
     "shell.execute_reply.started": "2024-11-10T03:45:15.503293Z"
    },
    "frozen": false,
    "slideshow": {
     "slide_type": "subslide"
    },
    "tags": []
   },
   "outputs": [
    {
     "name": "stdout",
     "output_type": "stream",
     "text": [
      "CPU times: user 7 μs, sys: 1e+03 ns, total: 8 μs\n",
      "Wall time: 14.5 μs\n"
     ]
    },
    {
     "data": {
      "text/plain": [
       "tensor([[ 1.1368, -2.5452,  0.3648, -0.1320],\n",
       "        [ 0.2835,  0.3718, -2.8085, -1.2019],\n",
       "        [-0.0500,  0.8236,  1.4256, -1.1588]])"
      ]
     },
     "execution_count": 4,
     "metadata": {},
     "output_type": "execute_result"
    }
   ],
   "source": [
    "%time\n",
    "foo(a, b)"
   ]
  },
  {
   "cell_type": "code",
   "execution_count": 5,
   "id": "44b5dac3-1bb9-4337-a66b-655dab6fd0bd",
   "metadata": {
    "deletable": true,
    "editable": true,
    "execution": {
     "iopub.execute_input": "2024-11-10T03:45:15.531394Z",
     "iopub.status.busy": "2024-11-10T03:45:15.530786Z",
     "iopub.status.idle": "2024-11-10T03:45:21.921342Z",
     "shell.execute_reply": "2024-11-10T03:45:21.919859Z",
     "shell.execute_reply.started": "2024-11-10T03:45:15.531338Z"
    },
    "frozen": false,
    "slideshow": {
     "slide_type": "subslide"
    },
    "tags": []
   },
   "outputs": [
    {
     "name": "stdout",
     "output_type": "stream",
     "text": [
      "CPU times: user 7 μs, sys: 1 μs, total: 8 μs\n",
      "Wall time: 14.3 μs\n"
     ]
    },
    {
     "data": {
      "text/plain": [
       "tensor([[ 1.1368, -2.5452,  0.3648, -0.1320],\n",
       "        [ 0.2835,  0.3718, -2.8085, -1.2019],\n",
       "        [-0.0500,  0.8236,  1.4256, -1.1588]])"
      ]
     },
     "execution_count": 5,
     "metadata": {},
     "output_type": "execute_result"
    }
   ],
   "source": [
    "%time\n",
    "foo_(a, b)"
   ]
  },
  {
   "cell_type": "code",
   "execution_count": 6,
   "id": "a7e94507-39df-4877-af6f-5b9ac77032d1",
   "metadata": {
    "deletable": true,
    "editable": true,
    "execution": {
     "iopub.execute_input": "2024-11-10T03:45:21.927340Z",
     "iopub.status.busy": "2024-11-10T03:45:21.926701Z",
     "iopub.status.idle": "2024-11-10T03:45:21.940120Z",
     "shell.execute_reply": "2024-11-10T03:45:21.938682Z",
     "shell.execute_reply.started": "2024-11-10T03:45:21.927282Z"
    },
    "frozen": false,
    "slideshow": {
     "slide_type": "fragment"
    },
    "tags": []
   },
   "outputs": [
    {
     "name": "stdout",
     "output_type": "stream",
     "text": [
      "CPU times: user 7 μs, sys: 1 μs, total: 8 μs\n",
      "Wall time: 15 μs\n"
     ]
    },
    {
     "data": {
      "text/plain": [
       "tensor([[ 1.1368, -2.5452,  0.3648, -0.1320],\n",
       "        [ 0.2835,  0.3718, -2.8085, -1.2019],\n",
       "        [-0.0500,  0.8236,  1.4256, -1.1588]])"
      ]
     },
     "execution_count": 6,
     "metadata": {},
     "output_type": "execute_result"
    }
   ],
   "source": [
    "%time\n",
    "foo_(a, b)"
   ]
  },
  {
   "cell_type": "code",
   "execution_count": 7,
   "id": "6498ca3e-c6e1-4c6a-9861-8626702de094",
   "metadata": {
    "deletable": true,
    "editable": true,
    "execution": {
     "iopub.execute_input": "2024-11-10T03:45:21.942083Z",
     "iopub.status.busy": "2024-11-10T03:45:21.941557Z",
     "iopub.status.idle": "2024-11-10T03:45:21.991337Z",
     "shell.execute_reply": "2024-11-10T03:45:21.989881Z",
     "shell.execute_reply.started": "2024-11-10T03:45:21.942025Z"
    },
    "frozen": false,
    "slideshow": {
     "slide_type": "subslide"
    },
    "tags": []
   },
   "outputs": [
    {
     "name": "stderr",
     "output_type": "stream",
     "text": [
      "/home/dboy/open_source/play_torch.fx/.venv/lib/python3.11/site-packages/depyf/__init__.py:24: ResourceWarning: unclosed file <_io.TextIOWrapper name='/home/dboy/open_source/play_torch.fx/.venv/lib/python3.11/site-packages/depyf/VERSION.txt' mode='r' encoding='UTF-8'>\n",
      "  __version__ = open(f\"{os.path.dirname(__file__)}/VERSION.txt\").read().strip()\n",
      "ResourceWarning: Enable tracemalloc to get the object allocation traceback\n"
     ]
    }
   ],
   "source": [
    "from depyf import decompile\n",
    "from dis import dis\n",
    "from torch._dynamo.eval_frame import _debug_get_cache_entry_list, innermost_fn"
   ]
  },
  {
   "cell_type": "code",
   "execution_count": 8,
   "id": "f8013473-a9d6-4d47-9435-96ddf149add5",
   "metadata": {
    "deletable": true,
    "editable": true,
    "execution": {
     "iopub.execute_input": "2024-11-10T03:45:21.993496Z",
     "iopub.status.busy": "2024-11-10T03:45:21.992860Z",
     "iopub.status.idle": "2024-11-10T03:45:22.000913Z",
     "shell.execute_reply": "2024-11-10T03:45:21.999441Z",
     "shell.execute_reply.started": "2024-11-10T03:45:21.993426Z"
    },
    "frozen": false,
    "slideshow": {
     "slide_type": "subslide"
    },
    "tags": []
   },
   "outputs": [],
   "source": [
    "cache_entries = _debug_get_cache_entry_list(innermost_fn(foo_))\n",
    "cache_entry = cache_entries[0]\n",
    "guard, code = cache_entry.check_fn, cache_entry.code"
   ]
  },
  {
   "cell_type": "code",
   "execution_count": 9,
   "id": "a04ab5a7-789e-479b-aefb-41c5482ddca0",
   "metadata": {
    "deletable": true,
    "editable": true,
    "execution": {
     "iopub.execute_input": "2024-11-10T03:45:22.003040Z",
     "iopub.status.busy": "2024-11-10T03:45:22.002433Z",
     "iopub.status.idle": "2024-11-10T03:45:22.013273Z",
     "shell.execute_reply": "2024-11-10T03:45:22.011855Z",
     "shell.execute_reply.started": "2024-11-10T03:45:22.002982Z"
    },
    "frozen": false,
    "slideshow": {
     "slide_type": "subslide"
    },
    "tags": []
   },
   "outputs": [
    {
     "name": "stdout",
     "output_type": "stream",
     "text": [
      "def foo(a, b):\n",
      "    return torch.add(a, b)\n",
      "\n"
     ]
    }
   ],
   "source": [
    "print(decompile(foo.__code__))"
   ]
  },
  {
   "cell_type": "code",
   "execution_count": 10,
   "id": "c9a609cd-c3f5-4657-9b9b-6b8a7c08f858",
   "metadata": {
    "deletable": true,
    "editable": true,
    "execution": {
     "iopub.execute_input": "2024-11-10T03:45:22.015216Z",
     "iopub.status.busy": "2024-11-10T03:45:22.014703Z",
     "iopub.status.idle": "2024-11-10T03:45:22.027255Z",
     "shell.execute_reply": "2024-11-10T03:45:22.025736Z",
     "shell.execute_reply.started": "2024-11-10T03:45:22.015161Z"
    },
    "frozen": false,
    "slideshow": {
     "slide_type": "subslide"
    },
    "tags": []
   },
   "outputs": [
    {
     "name": "stdout",
     "output_type": "stream",
     "text": [
      "def foo(a, b):\n",
      "    __temp_3, = __compiled_fn_1(b, a)\n",
      "    return __temp_3\n",
      "\n"
     ]
    }
   ],
   "source": [
    "print(decompile(code))"
   ]
  },
  {
   "cell_type": "code",
   "execution_count": 11,
   "id": "4ba204f8-7ca1-4113-816a-6dedd563e3e7",
   "metadata": {
    "deletable": true,
    "editable": true,
    "execution": {
     "iopub.execute_input": "2024-11-10T03:45:22.033418Z",
     "iopub.status.busy": "2024-11-10T03:45:22.032722Z",
     "iopub.status.idle": "2024-11-10T03:45:22.039404Z",
     "shell.execute_reply": "2024-11-10T03:45:22.037983Z",
     "shell.execute_reply.started": "2024-11-10T03:45:22.033362Z"
    },
    "frozen": false,
    "slideshow": {
     "slide_type": "subslide"
    },
    "tags": []
   },
   "outputs": [],
   "source": [
    "fn = innermost_fn(__compiled_fn_1)"
   ]
  },
  {
   "cell_type": "code",
   "execution_count": 12,
   "id": "75da4e63-eee5-47f6-b387-be132c363334",
   "metadata": {
    "deletable": true,
    "editable": true,
    "execution": {
     "iopub.execute_input": "2024-11-10T03:45:22.041333Z",
     "iopub.status.busy": "2024-11-10T03:45:22.040814Z",
     "iopub.status.idle": "2024-11-10T03:45:22.052632Z",
     "shell.execute_reply": "2024-11-10T03:45:22.051012Z",
     "shell.execute_reply.started": "2024-11-10T03:45:22.041276Z"
    },
    "frozen": false,
    "scrolled": true,
    "slideshow": {
     "slide_type": "subslide"
    },
    "tags": []
   },
   "outputs": [
    {
     "name": "stdout",
     "output_type": "stream",
     "text": [
      "# AOT ID: ['0_inference']\n",
      "from ctypes import c_void_p, c_long, c_int\n",
      "import torch\n",
      "import math\n",
      "import random\n",
      "import os\n",
      "import tempfile\n",
      "from math import inf, nan\n",
      "from torch._inductor.hooks import run_intermediate_hooks\n",
      "from torch._inductor.utils import maybe_profile\n",
      "from torch._inductor.codegen.memory_planning import _align as align\n",
      "from torch import device, empty_strided\n",
      "from torch._inductor.async_compile import AsyncCompile\n",
      "from torch._inductor.select_algorithm import extern_kernels\n",
      "from torch._inductor.codegen.multi_kernel import MultiKernelCall\n",
      "\n",
      "aten = torch.ops.aten\n",
      "inductor_ops = torch.ops.inductor\n",
      "_quantized = torch.ops._quantized\n",
      "assert_size_stride = torch._C._dynamo.guards.assert_size_stride\n",
      "empty_strided_cpu = torch._C._dynamo.guards._empty_strided_cpu\n",
      "empty_strided_cuda = torch._C._dynamo.guards._empty_strided_cuda\n",
      "empty_strided_xpu = torch._C._dynamo.guards._empty_strided_xpu\n",
      "reinterpret_tensor = torch._C._dynamo.guards._reinterpret_tensor\n",
      "alloc_from_pool = torch.ops.inductor._alloc_from_pool\n",
      "async_compile = AsyncCompile()\n",
      "\n",
      "\n",
      "cpp_fused_add_0 = async_compile.cpp_pybinding(['const float*', 'const float*', 'float*'], '''\n",
      "#include \"/tmp/torchinductor_dboy/vu/cvuvp4i7roujum4xemrfwnb3t4c5t3r3mihr4b7iegh6tcqvdg43.h\"\n",
      "extern \"C\"  void kernel(const float* in_ptr0,\n",
      "                       const float* in_ptr1,\n",
      "                       float* out_ptr0)\n",
      "{\n",
      "    {\n",
      "        for(int64_t x0=static_cast<int64_t>(0L); x0<static_cast<int64_t>(8L); x0+=static_cast<int64_t>(8L))\n",
      "        {\n",
      "            auto tmp0 = at::vec::Vectorized<float>::loadu(in_ptr0 + static_cast<int64_t>(x0), static_cast<int64_t>(8));\n",
      "            auto tmp1 = at::vec::Vectorized<float>::loadu(in_ptr1 + static_cast<int64_t>(x0), static_cast<int64_t>(8));\n",
      "            auto tmp2 = tmp0 + tmp1;\n",
      "            tmp2.store(out_ptr0 + static_cast<int64_t>(x0));\n",
      "        }\n",
      "        for(int64_t x0=static_cast<int64_t>(8L); x0<static_cast<int64_t>(12L); x0+=static_cast<int64_t>(4L))\n",
      "        {\n",
      "            auto tmp0 = at::vec::Vectorized<float>::loadu(in_ptr0 + static_cast<int64_t>(x0), static_cast<int64_t>(4L));\n",
      "            auto tmp1 = at::vec::Vectorized<float>::loadu(in_ptr1 + static_cast<int64_t>(x0), static_cast<int64_t>(4L));\n",
      "            auto tmp2 = tmp0 + tmp1;\n",
      "            tmp2.store(out_ptr0 + static_cast<int64_t>(x0), static_cast<int64_t>(4L));\n",
      "        }\n",
      "    }\n",
      "}\n",
      "''')\n",
      "\n",
      "\n",
      "async_compile.wait(globals())\n",
      "del async_compile\n",
      "\n",
      "def call(args):\n",
      "    arg0_1, arg1_1 = args\n",
      "    args.clear()\n",
      "    assert_size_stride(arg0_1, (3, 4), (4, 1))\n",
      "    assert_size_stride(arg1_1, (3, 4), (4, 1))\n",
      "    buf0 = empty_strided_cpu((3, 4), (4, 1), torch.float32)\n",
      "    cpp_fused_add_0(arg1_1, arg0_1, buf0)\n",
      "    del arg0_1\n",
      "    del arg1_1\n",
      "    return (buf0, )\n",
      "\n",
      "\n",
      "def benchmark_compiled_module(times=10, repeat=10):\n",
      "    from torch._dynamo.testing import rand_strided\n",
      "    from torch._inductor.utils import print_performance\n",
      "    arg0_1 = rand_strided((3, 4), (4, 1), device='cpu', dtype=torch.float32)\n",
      "    arg1_1 = rand_strided((3, 4), (4, 1), device='cpu', dtype=torch.float32)\n",
      "    fn = lambda: call([arg0_1, arg1_1])\n",
      "    return print_performance(fn, times=times, repeat=repeat)\n",
      "\n",
      "\n",
      "if __name__ == \"__main__\":\n",
      "    from torch._inductor.wrapper_benchmark import compiled_module_main\n",
      "    compiled_module_main('None', benchmark_compiled_module)\n",
      "\n"
     ]
    }
   ],
   "source": [
    "print(fn.__closure__[0].cell_contents.__closure__[0].cell_contents.__closure__[0].cell_contents.__closure__[0].cell_contents.source_code)"
   ]
  },
  {
   "cell_type": "markdown",
   "id": "20baab0d-4e41-4c2b-b518-914cf7e02dbb",
   "metadata": {
    "deletable": true,
    "editable": true,
    "frozen": false,
    "slideshow": {
     "slide_type": ""
    },
    "tags": []
   },
   "source": [
    "You can learn more about `ATen` with following links:\n",
    "- https://pytorch.org/cppdocs/"
   ]
  },
  {
   "cell_type": "markdown",
   "id": "0c4130ee-7b73-41ff-806f-8ea999ce6fcb",
   "metadata": {
    "deletable": true,
    "editable": true,
    "frozen": false,
    "slideshow": {
     "slide_type": "slide"
    },
    "tags": []
   },
   "source": [
    "## Speedup Your Module with `TorchDynamo`"
   ]
  },
  {
   "cell_type": "code",
   "execution_count": 13,
   "id": "f5583af8-5bbd-497b-8fd9-d06ed9471fa5",
   "metadata": {
    "deletable": false,
    "editable": false,
    "execution": {
     "iopub.execute_input": "2024-11-06T03:40:37.025196Z",
     "iopub.status.busy": "2024-11-06T03:40:37.024695Z",
     "iopub.status.idle": "2024-11-06T03:40:39.889840Z",
     "shell.execute_reply": "2024-11-06T03:40:39.887868Z",
     "shell.execute_reply.started": "2024-11-06T03:40:37.025140Z"
    },
    "frozen": true,
    "slideshow": {
     "slide_type": "skip"
    },
    "tags": []
   },
   "outputs": [
    {
     "name": "stderr",
     "output_type": "stream",
     "text": [
      "/home/dboy/open_source/play_torch.fx/.venv/lib/python3.11/site-packages/tqdm/auto.py:21: TqdmWarning: IProgress not found. Please update jupyter and ipywidgets. See https://ipywidgets.readthedocs.io/en/stable/user_install.html\n",
      "  from .autonotebook import tqdm as notebook_tqdm\n"
     ]
    }
   ],
   "source": [
    "from transformers import ViTImageProcessor, ViTModel\n",
    "from PIL import Image\n",
    "import requests"
   ]
  },
  {
   "cell_type": "code",
   "execution_count": 14,
   "id": "f5e8dde6-bac3-4576-ae99-b3de5f1f4fc4",
   "metadata": {
    "deletable": false,
    "editable": false,
    "execution": {
     "iopub.execute_input": "2024-11-06T03:40:39.899909Z",
     "iopub.status.busy": "2024-11-06T03:40:39.898807Z",
     "iopub.status.idle": "2024-11-06T03:40:42.447562Z",
     "shell.execute_reply": "2024-11-06T03:40:42.445769Z",
     "shell.execute_reply.started": "2024-11-06T03:40:39.899849Z"
    },
    "frozen": true,
    "slideshow": {
     "slide_type": "subslide"
    },
    "tags": []
   },
   "outputs": [],
   "source": [
    "# https://huggingface.co/google/vit-base-patch16-224-in21k\n",
    "url = 'http://images.cocodataset.org/val2017/000000039769.jpg'\n",
    "image = Image.open(requests.get(url, stream=True).raw)\n",
    "\n",
    "processor = ViTImageProcessor.from_pretrained('google/vit-base-patch16-224-in21k')\n",
    "model = ViTModel.from_pretrained('google/vit-base-patch16-224-in21k')\n",
    "\n",
    "inputs = processor(images=[image for _ in range(10)], return_tensors=\"pt\")"
   ]
  },
  {
   "cell_type": "code",
   "execution_count": 15,
   "id": "70ae98b9-c431-4647-9546-b3a474546156",
   "metadata": {
    "deletable": false,
    "editable": false,
    "execution": {
     "iopub.execute_input": "2024-11-06T03:40:42.449749Z",
     "iopub.status.busy": "2024-11-06T03:40:42.449196Z",
     "iopub.status.idle": "2024-11-06T03:40:42.461092Z",
     "shell.execute_reply": "2024-11-06T03:40:42.459285Z",
     "shell.execute_reply.started": "2024-11-06T03:40:42.449689Z"
    },
    "frozen": true,
    "slideshow": {
     "slide_type": ""
    },
    "tags": []
   },
   "outputs": [
    {
     "data": {
      "text/plain": [
       "device(type='cuda', index=0)"
      ]
     },
     "execution_count": 15,
     "metadata": {},
     "output_type": "execute_result"
    }
   ],
   "source": [
    "device = torch.device(0 if torch.cuda.is_available() else \"cpu\") \n",
    "device"
   ]
  },
  {
   "cell_type": "code",
   "execution_count": 16,
   "id": "e586c53a-c583-4ca8-99a5-cab309e34900",
   "metadata": {
    "deletable": false,
    "editable": false,
    "execution": {
     "iopub.execute_input": "2024-11-06T03:40:42.462937Z",
     "iopub.status.busy": "2024-11-06T03:40:42.462387Z",
     "iopub.status.idle": "2024-11-06T03:40:42.832155Z",
     "shell.execute_reply": "2024-11-06T03:40:42.830300Z",
     "shell.execute_reply.started": "2024-11-06T03:40:42.462878Z"
    },
    "frozen": true,
    "slideshow": {
     "slide_type": ""
    },
    "tags": []
   },
   "outputs": [],
   "source": [
    "model = model.to(device)\n",
    "inputs = {k: v.to(device) for k, v in inputs.items()}"
   ]
  },
  {
   "cell_type": "code",
   "execution_count": 17,
   "id": "722b4111-b79f-40ea-9481-2dd0200ba750",
   "metadata": {
    "deletable": false,
    "editable": false,
    "execution": {
     "iopub.execute_input": "2024-11-06T03:40:42.834351Z",
     "iopub.status.busy": "2024-11-06T03:40:42.833799Z",
     "iopub.status.idle": "2024-11-06T03:40:43.084783Z",
     "shell.execute_reply": "2024-11-06T03:40:43.083187Z",
     "shell.execute_reply.started": "2024-11-06T03:40:42.834291Z"
    },
    "frozen": true,
    "slideshow": {
     "slide_type": "subslide"
    },
    "tags": []
   },
   "outputs": [
    {
     "name": "stdout",
     "output_type": "stream",
     "text": [
      "CPU times: user 9 μs, sys: 1e+03 ns, total: 10 μs\n",
      "Wall time: 18.4 μs\n"
     ]
    }
   ],
   "source": [
    "%time\n",
    "_ = model(**inputs)"
   ]
  },
  {
   "cell_type": "code",
   "execution_count": 18,
   "id": "5608300d-8aa0-4e74-b351-ed3dda45f346",
   "metadata": {
    "deletable": false,
    "editable": false,
    "execution": {
     "iopub.execute_input": "2024-11-06T03:40:43.086974Z",
     "iopub.status.busy": "2024-11-06T03:40:43.086428Z",
     "iopub.status.idle": "2024-11-06T03:40:43.095998Z",
     "shell.execute_reply": "2024-11-06T03:40:43.094484Z",
     "shell.execute_reply.started": "2024-11-06T03:40:43.086916Z"
    },
    "frozen": true,
    "slideshow": {
     "slide_type": "subslide"
    },
    "tags": []
   },
   "outputs": [],
   "source": [
    "model_ = torch.compile(model)"
   ]
  },
  {
   "cell_type": "code",
   "execution_count": 19,
   "id": "7884a11a-38f1-4445-9658-a6b658efc13e",
   "metadata": {
    "deletable": false,
    "editable": false,
    "execution": {
     "iopub.execute_input": "2024-11-06T03:40:43.097914Z",
     "iopub.status.busy": "2024-11-06T03:40:43.097380Z",
     "iopub.status.idle": "2024-11-06T03:41:17.621926Z",
     "shell.execute_reply": "2024-11-06T03:41:17.620323Z",
     "shell.execute_reply.started": "2024-11-06T03:40:43.097855Z"
    },
    "frozen": true,
    "slideshow": {
     "slide_type": "subslide"
    },
    "tags": []
   },
   "outputs": [],
   "source": [
    "# trigger JIT-compilation\n",
    "_ = model_(**inputs)"
   ]
  },
  {
   "cell_type": "code",
   "execution_count": 20,
   "id": "b05b419c-3e5e-4482-abd5-7716415d0efc",
   "metadata": {
    "deletable": false,
    "editable": false,
    "execution": {
     "iopub.execute_input": "2024-11-06T03:41:17.624767Z",
     "iopub.status.busy": "2024-11-06T03:41:17.623752Z",
     "iopub.status.idle": "2024-11-06T03:41:17.643037Z",
     "shell.execute_reply": "2024-11-06T03:41:17.641581Z",
     "shell.execute_reply.started": "2024-11-06T03:41:17.624705Z"
    },
    "frozen": true,
    "slideshow": {
     "slide_type": "subslide"
    },
    "tags": []
   },
   "outputs": [
    {
     "name": "stdout",
     "output_type": "stream",
     "text": [
      "CPU times: user 7 μs, sys: 0 ns, total: 7 μs\n",
      "Wall time: 14.3 μs\n"
     ]
    }
   ],
   "source": [
    "%time\n",
    "_ = model_(**inputs)"
   ]
  },
  {
   "cell_type": "markdown",
   "id": "32a940dc-6f47-4680-92f3-7e6c5ed96988",
   "metadata": {
    "deletable": true,
    "editable": true,
    "frozen": false,
    "slideshow": {
     "slide_type": "slide"
    },
    "tags": []
   },
   "source": [
    "## Custom Backend/Compiler Support"
   ]
  },
  {
   "cell_type": "markdown",
   "id": "932c02d7-0906-4f2a-807a-162b8cd916c3",
   "metadata": {
    "deletable": true,
    "editable": true,
    "frozen": false,
    "slideshow": {
     "slide_type": "subslide"
    },
    "tags": []
   },
   "source": [
    "- `torch.compile` allows you to modify/rewrite your module with custom backend function.\n",
    "    - Build on top of `fx.Graph`, which is the graph IR for PyTorch.\n",
    "    - **Custom optimization on the model is possible**"
   ]
  },
  {
   "cell_type": "code",
   "execution_count": 13,
   "id": "595cddfb-600f-4eea-b302-98060c2a6ab3",
   "metadata": {
    "deletable": true,
    "editable": true,
    "execution": {
     "iopub.execute_input": "2024-11-07T06:15:09.218075Z",
     "iopub.status.busy": "2024-11-07T06:15:09.216383Z",
     "iopub.status.idle": "2024-11-07T06:15:09.226992Z",
     "shell.execute_reply": "2024-11-07T06:15:09.224174Z",
     "shell.execute_reply.started": "2024-11-07T06:15:09.217984Z"
    },
    "frozen": false,
    "slideshow": {
     "slide_type": "skip"
    },
    "tags": []
   },
   "outputs": [],
   "source": [
    "import torch.nn as nn"
   ]
  },
  {
   "cell_type": "code",
   "execution_count": 14,
   "id": "8e87f278-0a6d-4496-ba62-95644d937de3",
   "metadata": {
    "deletable": true,
    "editable": true,
    "execution": {
     "iopub.execute_input": "2024-11-07T06:15:10.847795Z",
     "iopub.status.busy": "2024-11-07T06:15:10.846887Z",
     "iopub.status.idle": "2024-11-07T06:15:10.866377Z",
     "shell.execute_reply": "2024-11-07T06:15:10.864239Z",
     "shell.execute_reply.started": "2024-11-07T06:15:10.847704Z"
    },
    "frozen": false,
    "slideshow": {
     "slide_type": "subslide"
    },
    "tags": []
   },
   "outputs": [],
   "source": [
    "class MyModule(nn.Module):\n",
    "    def __init__(self):\n",
    "        super().__init__()\n",
    "        self._linear = nn.Linear(100, 3)\n",
    "        self._dropout = nn.Dropout(p=0.3)\n",
    "        \n",
    "    def forward(self, x: torch.Tensor):\n",
    "        out = self._linear(x)\n",
    "        out = self._dropout(out)\n",
    "        return out\n",
    "\n",
    "my_model = MyModule()"
   ]
  },
  {
   "cell_type": "code",
   "execution_count": 15,
   "id": "11c5f708-f112-4573-aecd-04bff95742ac",
   "metadata": {
    "deletable": true,
    "editable": true,
    "execution": {
     "iopub.execute_input": "2024-11-07T06:15:14.222324Z",
     "iopub.status.busy": "2024-11-07T06:15:14.221621Z",
     "iopub.status.idle": "2024-11-07T06:15:14.272466Z",
     "shell.execute_reply": "2024-11-07T06:15:14.270308Z",
     "shell.execute_reply.started": "2024-11-07T06:15:14.222253Z"
    },
    "frozen": false,
    "slideshow": {
     "slide_type": "subslide"
    },
    "tags": []
   },
   "outputs": [
    {
     "name": "stdout",
     "output_type": "stream",
     "text": [
      "opcode       name      target    args         kwargs\n",
      "-----------  --------  --------  -----------  --------\n",
      "placeholder  x         x         ()           {}\n",
      "call_module  _linear   _linear   (x,)         {}\n",
      "call_module  _dropout  _dropout  (_linear,)   {}\n",
      "output       output    output    (_dropout,)  {}\n"
     ]
    }
   ],
   "source": [
    "ori_graph = torch.fx.symbolic_trace(my_model).graph\n",
    "ori_graph.print_tabular()"
   ]
  },
  {
   "cell_type": "code",
   "execution_count": 16,
   "id": "01a67fb4-975f-4d29-9fe3-7a01dd696499",
   "metadata": {
    "deletable": true,
    "editable": true,
    "execution": {
     "iopub.execute_input": "2024-11-07T06:15:15.352574Z",
     "iopub.status.busy": "2024-11-07T06:15:15.351653Z",
     "iopub.status.idle": "2024-11-07T06:15:15.372071Z",
     "shell.execute_reply": "2024-11-07T06:15:15.369788Z",
     "shell.execute_reply.started": "2024-11-07T06:15:15.352480Z"
    },
    "frozen": false,
    "slideshow": {
     "slide_type": "subslide"
    },
    "tags": []
   },
   "outputs": [],
   "source": [
    "new_graph = None\n",
    "\n",
    "def my_backend(gm: torch.fx.GraphModule, sample_inputs: list[torch.Tensor]):\n",
    "    global new_graph\n",
    "    for node in gm.graph.nodes:\n",
    "        if node.target == torch.nn.functional.dropout:\n",
    "            node.replace_all_uses_with(node.args[0])\n",
    "            gm.graph.erase_node(node)\n",
    "    gm.recompile()\n",
    "    new_graph = gm.graph\n",
    "    return gm.forward"
   ]
  },
  {
   "cell_type": "code",
   "execution_count": 17,
   "id": "383c9cbc-a612-41e0-98b3-7edb1e051055",
   "metadata": {
    "deletable": true,
    "editable": true,
    "execution": {
     "iopub.execute_input": "2024-11-07T06:15:16.380556Z",
     "iopub.status.busy": "2024-11-07T06:15:16.378941Z",
     "iopub.status.idle": "2024-11-07T06:15:16.399087Z",
     "shell.execute_reply": "2024-11-07T06:15:16.396955Z",
     "shell.execute_reply.started": "2024-11-07T06:15:16.380454Z"
    },
    "frozen": false,
    "slideshow": {
     "slide_type": "skip"
    },
    "tags": []
   },
   "outputs": [],
   "source": [
    "from copy import deepcopy\n",
    "new_graph = None\n",
    "\n",
    "def my_backend(gm: torch.fx.GraphModule, sample_inputs: list[torch.Tensor]):\n",
    "    global new_graph\n",
    "    new_graph = deepcopy(gm.graph)\n",
    "    for node in new_graph.nodes:\n",
    "        if node.target == torch.nn.functional.dropout:\n",
    "            node.replace_all_uses_with(node.args[0])\n",
    "            new_graph.erase_node(node)\n",
    "    new_graph.lint()\n",
    "    new_gm = torch.fx.GraphModule(root=gm, graph=new_graph)\n",
    "    return new_gm.forward"
   ]
  },
  {
   "cell_type": "code",
   "execution_count": 18,
   "id": "b654d2cf-266f-43b7-b87e-1ebf57b81898",
   "metadata": {
    "deletable": true,
    "editable": true,
    "execution": {
     "iopub.execute_input": "2024-11-07T06:15:17.100780Z",
     "iopub.status.busy": "2024-11-07T06:15:17.099441Z",
     "iopub.status.idle": "2024-11-07T06:15:17.109715Z",
     "shell.execute_reply": "2024-11-07T06:15:17.107862Z",
     "shell.execute_reply.started": "2024-11-07T06:15:17.100703Z"
    },
    "frozen": false,
    "slideshow": {
     "slide_type": "subslide"
    },
    "tags": []
   },
   "outputs": [],
   "source": [
    "my_model_ = torch.compile(my_model, backend=my_backend)"
   ]
  },
  {
   "cell_type": "code",
   "execution_count": 19,
   "id": "a37d2f07-8dac-444d-b0c9-0d3faec9b1a1",
   "metadata": {
    "deletable": true,
    "editable": true,
    "execution": {
     "iopub.execute_input": "2024-11-07T06:15:17.605564Z",
     "iopub.status.busy": "2024-11-07T06:15:17.604652Z",
     "iopub.status.idle": "2024-11-07T06:15:17.615642Z",
     "shell.execute_reply": "2024-11-07T06:15:17.613515Z",
     "shell.execute_reply.started": "2024-11-07T06:15:17.605467Z"
    },
    "frozen": false,
    "slideshow": {
     "slide_type": "fragment"
    },
    "tags": []
   },
   "outputs": [],
   "source": [
    "x = torch.randn(10, 100, dtype=torch.float32)"
   ]
  },
  {
   "cell_type": "code",
   "execution_count": 20,
   "id": "f94eb130-e8bc-4a12-80a0-db934311b73b",
   "metadata": {
    "deletable": true,
    "editable": true,
    "execution": {
     "iopub.execute_input": "2024-11-07T06:15:18.527614Z",
     "iopub.status.busy": "2024-11-07T06:15:18.526693Z",
     "iopub.status.idle": "2024-11-07T06:15:18.792955Z",
     "shell.execute_reply": "2024-11-07T06:15:18.791259Z",
     "shell.execute_reply.started": "2024-11-07T06:15:18.527521Z"
    },
    "frozen": false,
    "slideshow": {
     "slide_type": "subslide"
    },
    "tags": []
   },
   "outputs": [
    {
     "data": {
      "text/plain": [
       "tensor([[-0.0533, -0.6154,  0.0078],\n",
       "        [ 0.5948,  0.2216, -0.3222],\n",
       "        [-0.4676, -0.2946, -1.0253],\n",
       "        [-0.2791, -0.5381,  0.0247],\n",
       "        [ 0.4472,  0.0657, -1.3394],\n",
       "        [ 0.2567, -0.7131, -1.3041],\n",
       "        [ 0.1124,  0.4636, -0.1534],\n",
       "        [-0.9166,  0.7008, -0.0301],\n",
       "        [-0.4780, -0.2450, -0.6456],\n",
       "        [ 0.8653, -0.0872,  0.5471]], grad_fn=<AddmmBackward0>)"
      ]
     },
     "execution_count": 20,
     "metadata": {},
     "output_type": "execute_result"
    }
   ],
   "source": [
    "my_model_(x)"
   ]
  },
  {
   "cell_type": "code",
   "execution_count": 21,
   "id": "47832859-d2be-4a67-9356-7c66d36f5a29",
   "metadata": {
    "deletable": true,
    "editable": true,
    "execution": {
     "iopub.execute_input": "2024-11-07T06:15:22.519766Z",
     "iopub.status.busy": "2024-11-07T06:15:22.519157Z",
     "iopub.status.idle": "2024-11-07T06:15:22.532209Z",
     "shell.execute_reply": "2024-11-07T06:15:22.530217Z",
     "shell.execute_reply.started": "2024-11-07T06:15:22.519706Z"
    },
    "frozen": false,
    "slideshow": {
     "slide_type": "subslide"
    },
    "tags": []
   },
   "outputs": [
    {
     "name": "stdout",
     "output_type": "stream",
     "text": [
      "opcode         name                                      target                                    args                                                                                      kwargs\n",
      "-------------  ----------------------------------------  ----------------------------------------  ----------------------------------------------------------------------------------------  --------\n",
      "placeholder    l_self_modules_linear_parameters_weight_  L_self_modules_linear_parameters_weight_  ()                                                                                        {}\n",
      "placeholder    l_self_modules_linear_parameters_bias_    L_self_modules_linear_parameters_bias_    ()                                                                                        {}\n",
      "placeholder    l_x_                                      L_x_                                      ()                                                                                        {}\n",
      "call_function  out                                       <built-in function linear>                (l_x_, l_self_modules_linear_parameters_weight_, l_self_modules_linear_parameters_bias_)  {}\n",
      "output         output                                    output                                    ((out,),)                                                                                 {}\n"
     ]
    }
   ],
   "source": [
    "new_graph.print_tabular()"
   ]
  },
  {
   "cell_type": "markdown",
   "id": "7d8fe66d-5379-450e-88bd-ead3f2a1db4a",
   "metadata": {
    "deletable": true,
    "editable": true,
    "frozen": false,
    "slideshow": {
     "slide_type": "subslide"
    },
    "tags": []
   },
   "source": [
    "- Even pattern match on subgraph is possible!\n",
    "    - https://github.com/pytorch/examples/blob/main/fx/subgraph_rewriter_basic_use.py\n",
    " \n",
    "![utensor-node-fusion](https://github.com/uTensor/utensor_cgen/blob/eccd6859028d0b6a350dced25ea72ff02faaf9ad/doc/source/_images/conv_pool_fuse.png?raw=true)"
   ]
  },
  {
   "cell_type": "markdown",
   "id": "e08242fd-f46a-44b4-8c92-4b72e24c7f4a",
   "metadata": {
    "editable": true,
    "slideshow": {
     "slide_type": "subslide"
    },
    "tags": []
   },
   "source": [
    "## Comparison with `torch.fx`"
   ]
  },
  {
   "cell_type": "markdown",
   "id": "3db06b5a-50e5-4e95-8741-e53f5f5b974d",
   "metadata": {
    "editable": true,
    "slideshow": {
     "slide_type": "fragment"
    },
    "tags": []
   },
   "source": [
    "- `torch.fx.symbolic_trace`\n",
    "    - it parse the `nn.Module` and convert it into a `GraphModule`.\n",
    "    - `GraphModule.graph`: the graph IR of the module.\n",
    "- `torch.compile` + custom backend\n",
    "    - it also pase the `nn.Module` into `GraphModule`, with the support of **Graph Break**\n",
    "    - Do JIT-compilation on the resulting `GraphModule`"
   ]
  },
  {
   "cell_type": "markdown",
   "id": "434c6841-fe3b-4bf4-a299-8ee3dbed057d",
   "metadata": {
    "editable": true,
    "slideshow": {
     "slide_type": "subslide"
    },
    "tags": []
   },
   "source": [
    "### What is `GrapBreak`?"
   ]
  },
  {
   "cell_type": "markdown",
   "id": "e0609d14-10c2-4f07-958a-650350c44b94",
   "metadata": {
    "editable": true,
    "slideshow": {
     "slide_type": "fragment"
    },
    "tags": []
   },
   "source": [
    "- It's hard for a compiler to keep track of the execution of a function frame in a dynamic language like Python.\n",
    "    - ex: data-dependent control flow, try-catch"
   ]
  },
  {
   "cell_type": "markdown",
   "id": "b2d266fb-108a-4933-ade7-d852490119c3",
   "metadata": {
    "editable": true,
    "slideshow": {
     "slide_type": "fragment"
    },
    "tags": []
   },
   "source": [
    "- `torch.fx.symbolic_trace` takes a all-or-nothing approach when it find codes it can not keep track of"
   ]
  },
  {
   "cell_type": "markdown",
   "id": "d56ae51a-632b-4178-9ec0-411d251c2462",
   "metadata": {
    "editable": true,
    "slideshow": {
     "slide_type": "fragment"
    },
    "tags": []
   },
   "source": [
    "- `TorchDynamo` introduce graph breaks to resolve the problem\n",
    "    - It breaks a computational graph into many subgraphs"
   ]
  },
  {
   "cell_type": "code",
   "execution_count": 21,
   "id": "3090927a-2be5-413c-aa06-11818a76894b",
   "metadata": {
    "editable": true,
    "execution": {
     "iopub.execute_input": "2024-11-10T03:58:32.013540Z",
     "iopub.status.busy": "2024-11-10T03:58:32.012812Z",
     "iopub.status.idle": "2024-11-10T03:58:32.021527Z",
     "shell.execute_reply": "2024-11-10T03:58:32.019756Z",
     "shell.execute_reply.started": "2024-11-10T03:58:32.013468Z"
    },
    "slideshow": {
     "slide_type": "skip"
    },
    "tags": []
   },
   "outputs": [],
   "source": [
    "import torch.nn as nn\n",
    "from torch.fx.proxy import TraceError"
   ]
  },
  {
   "cell_type": "code",
   "execution_count": 18,
   "id": "85043419-8f28-4a6e-b6cd-e46ca6294ba8",
   "metadata": {
    "editable": true,
    "execution": {
     "iopub.execute_input": "2024-11-10T03:55:00.046264Z",
     "iopub.status.busy": "2024-11-10T03:55:00.044343Z",
     "iopub.status.idle": "2024-11-10T03:55:00.060228Z",
     "shell.execute_reply": "2024-11-10T03:55:00.058125Z",
     "shell.execute_reply.started": "2024-11-10T03:55:00.046146Z"
    },
    "slideshow": {
     "slide_type": "subslide"
    },
    "tags": []
   },
   "outputs": [],
   "source": [
    "# an example with dynamic control flow\n",
    "class DynamicModule(nn.Module):\n",
    "    def forward(self, x: torch.Tensor):\n",
    "        if x.sum() > 0:\n",
    "            return x*x\n",
    "        return 3*x"
   ]
  },
  {
   "cell_type": "code",
   "execution_count": 22,
   "id": "0543f4b8-d5a6-4df2-9b72-7912f6816954",
   "metadata": {
    "editable": true,
    "execution": {
     "iopub.execute_input": "2024-11-10T03:58:53.814019Z",
     "iopub.status.busy": "2024-11-10T03:58:53.813291Z",
     "iopub.status.idle": "2024-11-10T03:58:53.829789Z",
     "shell.execute_reply": "2024-11-10T03:58:53.828026Z",
     "shell.execute_reply.started": "2024-11-10T03:58:53.813949Z"
    },
    "slideshow": {
     "slide_type": "subslide"
    },
    "tags": []
   },
   "outputs": [
    {
     "name": "stdout",
     "output_type": "stream",
     "text": [
      "Tracing Error!!\n"
     ]
    }
   ],
   "source": [
    "try:\n",
    "    _ = torch.fx.symbolic_trace(DynamicModule())\n",
    "except TraceError:\n",
    "    print(\"Tracing Error!!\")"
   ]
  },
  {
   "cell_type": "code",
   "execution_count": 24,
   "id": "ed3834e7-8392-4e9a-96d0-9928c2bbcbe8",
   "metadata": {
    "editable": true,
    "execution": {
     "iopub.execute_input": "2024-11-10T04:00:53.329370Z",
     "iopub.status.busy": "2024-11-10T04:00:53.328203Z",
     "iopub.status.idle": "2024-11-10T04:00:53.544020Z",
     "shell.execute_reply": "2024-11-10T04:00:53.542226Z",
     "shell.execute_reply.started": "2024-11-10T04:00:53.329254Z"
    },
    "slideshow": {
     "slide_type": "subslide"
    },
    "tags": []
   },
   "outputs": [],
   "source": [
    "graphs = []\n",
    "\n",
    "def collect_graphs(gm, samples):\n",
    "    graphs.append(gm.graph)\n",
    "    return gm.forward\n",
    "\n",
    "model = torch.compile(DynamicModule(), backend=collect_graphs)\n",
    "x = torch.randn(10)\n",
    "_ = model(x)\n",
    "_ = model(-x)"
   ]
  },
  {
   "cell_type": "code",
   "execution_count": 32,
   "id": "9fb852fc-eb2f-4221-8240-988f2ba475cd",
   "metadata": {
    "editable": true,
    "execution": {
     "iopub.execute_input": "2024-11-10T04:02:34.859617Z",
     "iopub.status.busy": "2024-11-10T04:02:34.858725Z",
     "iopub.status.idle": "2024-11-10T04:02:34.875178Z",
     "shell.execute_reply": "2024-11-10T04:02:34.873232Z",
     "shell.execute_reply.started": "2024-11-10T04:02:34.859528Z"
    },
    "slideshow": {
     "slide_type": "subslide"
    },
    "tags": []
   },
   "outputs": [
    {
     "name": "stdout",
     "output_type": "stream",
     "text": [
      "def forward(self, L_x_ : torch.Tensor):\n",
      "    l_x_ = L_x_\n",
      "    sum_1 = l_x_.sum();  l_x_ = None\n",
      "    gt = sum_1 > 0;  sum_1 = None\n",
      "    return (gt,)\n",
      "====================\n",
      "def forward(self, L_x_ : torch.Tensor):\n",
      "    l_x_ = L_x_\n",
      "    mul = 3 * l_x_;  l_x_ = None\n",
      "    return (mul,)\n",
      "====================\n",
      "def forward(self, L_x_ : torch.Tensor):\n",
      "    l_x_ = L_x_\n",
      "    mul = l_x_ * l_x_;  l_x_ = None\n",
      "    return (mul,)\n",
      "====================\n"
     ]
    }
   ],
   "source": [
    "for graph in graphs:\n",
    "    print(graph.python_code(\"self\").src.strip())\n",
    "    print(\"==\"*10)"
   ]
  },
  {
   "cell_type": "markdown",
   "id": "dd953735-26e2-4254-ab75-aba90d5e8d58",
   "metadata": {
    "deletable": true,
    "editable": true,
    "frozen": false,
    "slideshow": {
     "slide_type": "slide"
    },
    "tags": []
   },
   "source": [
    "## How: `TorchDynamo` and PEP-523"
   ]
  },
  {
   "cell_type": "markdown",
   "id": "d4cd4a5c-392e-4f45-b4e9-6f82c5f902e1",
   "metadata": {
    "deletable": true,
    "editable": true,
    "frozen": false,
    "slideshow": {
     "slide_type": "subslide"
    },
    "tags": []
   },
   "source": [
    "- PEP-523: https://peps.python.org/pep-0523/"
   ]
  },
  {
   "cell_type": "markdown",
   "id": "4bb240a2-8652-451c-b41b-cdbe3b5cc1c8",
   "metadata": {
    "deletable": true,
    "editable": true,
    "frozen": false,
    "slideshow": {
     "slide_type": "subslide"
    },
    "tags": []
   },
   "source": [
    "![pep-523-ceval](img/pep-523-ceval.png)"
   ]
  },
  {
   "cell_type": "markdown",
   "id": "5d6b05a5-b043-4d0c-88f7-095a7e3d82d1",
   "metadata": {
    "deletable": true,
    "editable": true,
    "frozen": false,
    "slideshow": {
     "slide_type": "subslide"
    },
    "tags": []
   },
   "source": [
    "Example: [Pyjion](https://github.com/microsoft/pyjion)\n",
    "\n",
    "![pep-523](img/pep-523-pyjion.png)"
   ]
  },
  {
   "cell_type": "markdown",
   "id": "2c15d16a-cbd9-4b57-903f-70e2fd751702",
   "metadata": {
    "deletable": true,
    "editable": true,
    "frozen": false,
    "slideshow": {
     "slide_type": "subslide"
    },
    "tags": []
   },
   "source": [
    "## `TorchDynamo` Workflow\n",
    "\n",
    "![torch-workflow](img/torchdynamo_workflow.drawio.svg)"
   ]
  },
  {
   "cell_type": "markdown",
   "id": "7abfdd03-f624-4ada-be76-de3a9779436a",
   "metadata": {
    "deletable": true,
    "editable": true,
    "frozen": false,
    "slideshow": {
     "slide_type": "subslide"
    },
    "tags": []
   },
   "source": [
    "### The Dark Side: `set_eval_frame`\n",
    "\n",
    "<img src='img/dark-side.jpg' alt='dark-side' width=300>\n",
    "\n",
    "[credit](https://starwars.fandom.com/wiki/Dark_side_of_the_Force/Legends)"
   ]
  },
  {
   "cell_type": "markdown",
   "id": "d0c22ea3-5681-4e3a-8c0e-f9341b67fb0f",
   "metadata": {
    "deletable": true,
    "editable": true,
    "frozen": false,
    "slideshow": {
     "slide_type": "subslide"
    },
    "tags": []
   },
   "source": [
    "## `torch.compile` --> `torch._dynamo.optimize`\n",
    "\n",
    "![torch-compile](img/torch-compile.png)"
   ]
  },
  {
   "cell_type": "markdown",
   "id": "12380588-e580-4d9f-aa4e-1f8efd77c64d",
   "metadata": {
    "deletable": true,
    "editable": true,
    "frozen": false,
    "slideshow": {
     "slide_type": "subslide"
    },
    "tags": []
   },
   "source": [
    "<div>\n",
    "    <img src='img/torch-compile-optimize.png' alt='torch-compile-optimize' width=300>\n",
    "    <img src='img/torch-compile-optimize-context.png' alt='torch-compile-optimize-context' width=320>\n",
    "</div>\n",
    "\n",
    "- `torch._dynamo.optimize`\n",
    "    - wrapping your `backend` with `convert_frame.convert_frame`\n",
    "    - Construct a `OptimizeContext` with wrapped `backend`"
   ]
  },
  {
   "cell_type": "markdown",
   "id": "f64a90f4-24c7-4f15-8cce-682d8a1eeebd",
   "metadata": {
    "deletable": true,
    "editable": true,
    "frozen": false,
    "slideshow": {
     "slide_type": "subslide"
    },
    "tags": []
   },
   "source": [
    "- Finally, the `backend` is wrapped into a `_TorchDynamoContext`\n",
    "    - its `__call__` is invoked once you run inference on compiled module\n",
    "\n",
    "![torch-context-set-eval](img/torch-context-set-eval.png)"
   ]
  },
  {
   "cell_type": "markdown",
   "id": "b2b6653b-c6dc-49ec-9aa6-35aee1c497cf",
   "metadata": {
    "deletable": true,
    "editable": true,
    "frozen": false,
    "slideshow": {
     "slide_type": "subslide"
    },
    "tags": []
   },
   "source": [
    "The source code of the C implementation of `set_eval_frame` can be found [here](https://github.com/pytorch/pytorch/blob/v2.5.0/torch/csrc/dynamo/eval_frame.c#L758-L782)."
   ]
  },
  {
   "cell_type": "markdown",
   "id": "ab3672e5-7b23-48f5-ac0c-20a0cc3c8098",
   "metadata": {
    "deletable": true,
    "editable": true,
    "frozen": false,
    "slideshow": {
     "slide_type": "subslide"
    },
    "tags": []
   },
   "source": [
    "## The Final Secret: `ConvertFrameAssert`\n",
    "\n",
    "![torch-convert-frame-call](img/torch-convert-frame-call.png)\n",
    "\n",
    "[impl](https://github.com/pytorch/pytorch/blob/v2.5.0/torch/_dynamo/convert_frame.py#L434-L542)"
   ]
  },
  {
   "cell_type": "markdown",
   "id": "cbb0c325-78b2-45ac-b3c9-60c24121c1a8",
   "metadata": {
    "deletable": true,
    "editable": true,
    "frozen": false,
    "slideshow": {
     "slide_type": "subslide"
    },
    "tags": []
   },
   "source": [
    "![torchdynamo-high-level-steps](img/torchdynamo-high-level-steps.png)\n",
    "\n",
    "[YouTube: A Deep Dive on TorchDynamo](https://www.youtube.com/watch?v=5FNHwPIyHr8)"
   ]
  },
  {
   "cell_type": "code",
   "execution_count": 22,
   "id": "2c69d921-db6d-4854-8b2d-aa375c69a008",
   "metadata": {
    "deletable": false,
    "editable": false,
    "execution": {
     "iopub.execute_input": "2024-11-07T06:15:49.042096Z",
     "iopub.status.busy": "2024-11-07T06:15:49.041174Z",
     "iopub.status.idle": "2024-11-07T06:15:49.060149Z",
     "shell.execute_reply": "2024-11-07T06:15:49.057950Z",
     "shell.execute_reply.started": "2024-11-07T06:15:49.041999Z"
    },
    "frozen": true,
    "slideshow": {
     "slide_type": "subslide"
    },
    "tags": []
   },
   "outputs": [],
   "source": [
    "# Let's try it!\n",
    "from typing import Optional\n",
    "from torch._dynamo.types import (\n",
    "    CacheEntry,\n",
    "    DynamoFrameType,\n",
    "    FrameState,\n",
    "    GuardedCode,\n",
    ")\n",
    "from torch._guards import CompileId\n",
    "\n",
    "hit = 0\n",
    "\n",
    "def callback(\n",
    "    frame: DynamoFrameType,\n",
    "    cache: Optional[CacheEntry],\n",
    "    frame_state: FrameState\n",
    "):\n",
    "    global hit, frame_id\n",
    "    hit += 1\n",
    "    function_name = frame.f_code.co_name\n",
    "    print(f\"calling {function_name}\")\n",
    "    return GuardedCode(code=frame.f_code, check_fn=lambda local: hit, compile_id=CompileId(frame_id=1, frame_compile_id=1))"
   ]
  },
  {
   "cell_type": "code",
   "execution_count": 23,
   "id": "cb200ab3-aa1d-4ec4-a19e-88c3fbee9ffc",
   "metadata": {
    "deletable": false,
    "editable": false,
    "execution": {
     "iopub.execute_input": "2024-11-07T06:15:49.343665Z",
     "iopub.status.busy": "2024-11-07T06:15:49.342776Z",
     "iopub.status.idle": "2024-11-07T06:15:49.353003Z",
     "shell.execute_reply": "2024-11-07T06:15:49.350867Z",
     "shell.execute_reply.started": "2024-11-07T06:15:49.343572Z"
    },
    "frozen": true,
    "slideshow": {
     "slide_type": "subslide"
    },
    "tags": []
   },
   "outputs": [],
   "source": [
    "from torch._C._dynamo.eval_frame import set_eval_frame"
   ]
  },
  {
   "cell_type": "code",
   "execution_count": 24,
   "id": "b6fb3281-b907-44fd-873e-95c9bd20a52a",
   "metadata": {
    "deletable": false,
    "editable": false,
    "execution": {
     "iopub.execute_input": "2024-11-07T06:15:50.168471Z",
     "iopub.status.busy": "2024-11-07T06:15:50.167563Z",
     "iopub.status.idle": "2024-11-07T06:15:50.178039Z",
     "shell.execute_reply": "2024-11-07T06:15:50.175909Z",
     "shell.execute_reply.started": "2024-11-07T06:15:50.168370Z"
    },
    "frozen": true,
    "slideshow": {
     "slide_type": "fragment"
    },
    "tags": []
   },
   "outputs": [],
   "source": [
    "def foo(x, y):\n",
    "    return x+y"
   ]
  },
  {
   "cell_type": "code",
   "execution_count": 25,
   "id": "b8bd44e9-8a34-4b19-bb88-f69c80e0fc46",
   "metadata": {
    "deletable": false,
    "editable": false,
    "execution": {
     "iopub.execute_input": "2024-11-07T06:15:51.753114Z",
     "iopub.status.busy": "2024-11-07T06:15:51.752195Z",
     "iopub.status.idle": "2024-11-07T06:15:51.803327Z",
     "shell.execute_reply": "2024-11-07T06:15:51.784737Z",
     "shell.execute_reply.started": "2024-11-07T06:15:51.753021Z"
    },
    "frozen": true,
    "slideshow": {
     "slide_type": "subslide"
    },
    "tags": []
   },
   "outputs": [
    {
     "name": "stdout",
     "output_type": "stream",
     "text": [
      "calling __get__\n",
      "calling get\n",
      "calling cast\n",
      "calling helper\n",
      "calling __init__\n",
      "calling extra_flags\n",
      "calling __enter__\n",
      "calling showtraceback\n",
      "calling _get_exc_info\n",
      "calling contains_exceptiongroup\n",
      "calling structured_traceback\n",
      "calling structured_traceback\n",
      "calling structured_traceback\n",
      "calling format_exception_as_a_whole\n",
      "calling prepare_header\n",
      "calling __getattr__\n",
      "calling get_terminal_size\n",
      "calling get_terminal_size\n",
      "calling __getitem__\n",
      "calling encode\n",
      "calling get_records\n",
      "calling has_colors\n",
      "calling get_style_by_name\n",
      "calling _find_and_load\n",
      "calling __init__\n",
      "calling __enter__\n",
      "calling _get_module_lock\n",
      "calling __init__\n",
      "calling acquire\n",
      "calling _find_and_load_unlocked\n",
      "calling _find_spec\n",
      "calling __enter__\n",
      "calling find_spec\n",
      "calling __exit__\n",
      "calling find_spec\n",
      "calling find_spec\n",
      "calling find_spec\n",
      "calling _call_with_frames_removed\n",
      "calling find_spec\n",
      "calling _get_spec\n",
      "calling _path_importer_cache\n",
      "calling find_spec\n",
      "calling _path_stat\n",
      "calling _fill_cache\n",
      "calling _relax_case\n",
      "calling _path_join\n",
      "calling <listcomp>\n",
      "calling _verbose_message\n",
      "calling _path_isfile\n",
      "calling _path_is_mode_type\n",
      "calling _get_spec\n",
      "calling __init__\n",
      "calling spec_from_file_location\n",
      "calling _path_isabs\n",
      "calling __init__\n",
      "calling _load_unlocked\n",
      "calling module_from_spec\n",
      "calling create_module\n",
      "calling _new_module\n",
      "calling _init_module_attrs\n",
      "calling parent\n",
      "calling has_location\n",
      "calling cached\n",
      "calling _get_cached\n",
      "calling cache_from_source\n",
      "calling _path_split\n",
      "calling <genexpr>\n",
      "calling __exit__\n",
      "calling release\n",
      "calling cb\n",
      "calling write\n",
      "calling parent_header\n",
      "calling _is_master_process\n",
      "Unexpected exception formatting exception. Falling back to standard exceptioncalling _schedule_flush\n",
      "\n",
      "calling print_exc\n",
      "calling print_exception\n",
      "calling _parse_value_tb\n",
      "calling __init__\n",
      "calling _walk_tb_with_full_positions\n",
      "calling _extract_from_extended_frame_gen\n",
      "calling _safe_string\n",
      "calling _load_lines\n",
      "calling print\n",
      "calling format\n",
      "calling __set__\n",
      "calling set\n",
      "calling _validate\n",
      "calling validate\n",
      "calling _cross_validate\n",
      "calling _notify_trait\n",
      "calling notify_change\n",
      "calling _notify_observers\n",
      "calling validate\n",
      "calling __exit__\n",
      "calling unset\n",
      "calling __exit__\n",
      "calling deactivate\n",
      "calling remove_builtin\n",
      "calling store_output\n",
      "calling validate\n",
      "calling _validate_bounds\n",
      "calling trigger\n",
      "calling _restore_input\n",
      "calling success\n",
      "calling info\n",
      "calling isEnabledFor\n",
      "calling _acquireLock\n",
      "calling disable\n",
      "calling getEffectiveLevel\n",
      "calling _releaseLock\n",
      "calling _log\n",
      "calling findCaller\n",
      "calling <lambda>\n",
      "calling _is_internal_frame\n",
      "calling normcase\n",
      "calling makeRecord\n",
      "calling __init__\n",
      "calling __instancecheck__\n",
      "calling getLevelName\n",
      "calling basename\n",
      "calling _get_sep\n",
      "calling splitext\n",
      "calling _splitext\n",
      "calling current_thread\n",
      "calling name\n",
      "calling current_process\n",
      "calling name\n",
      "calling handle\n",
      "calling filter\n",
      "calling callHandlers\n",
      "calling read_payload\n",
      "calling clear_payload\n",
      "calling set\n",
      "calling validate\n",
      "calling validate_elements\n",
      "calling validate_elements\n",
      "calling flush\n",
      "calling is_alive\n",
      "calling is_set\n",
      "calling _wait_for_tstate_lock\n",
      "calling ident\n",
      "calling schedule\n",
      "calling _event_pipe\n",
      "calling send\n",
      "calling __init__\n",
      "calling __init__\n",
      "calling wait\n",
      "calling __enter__\n",
      "calling wait\n",
      "calling _is_owned\n",
      "calling _release_save\n",
      "calling _acquire_restore\n",
      "calling __exit__\n",
      "calling json_clean\n",
      "calling finish_metadata\n",
      "calling send\n",
      "calling msg\n",
      "calling msg_header\n",
      "calling msg_id\n",
      "calling msg_header\n",
      "calling utcnow\n",
      "calling extract_header\n",
      "calling serialize\n",
      "calling _clean_thread_parent_frames\n",
      "calling enumerate\n",
      "calling <setcomp>\n",
      "calling json_packer\n",
      "calling dumps\n",
      "calling __init__\n",
      "calling encode\n",
      "calling iterencode\n",
      "calling json_default\n",
      "calling _ensure_tzinfo\n",
      "calling utcoffset\n",
      "calling sign\n",
      "calling copy\n",
      "calling update\n",
      "calling hexdigest\n",
      "calling _current\n",
      "calling <listcomp>\n",
      "calling send_multipart\n",
      "calling put\n",
      "calling _put\n",
      "calling notify\n",
      "calling on_send\n",
      "calling _check_closed\n",
      "calling _add_io_state\n",
      "calling __or__\n",
      "calling _get_value\n",
      "calling __call__\n",
      "calling __new__\n",
      "calling _update_handler\n",
      "calling __getattr__\n",
      "calling _handle_fromlist\n",
      "calling _get_attr_opt\n",
      "calling __and__\n",
      "calling add_callback\n",
      "calling call_soon\n",
      "calling _check_closed\n",
      "calling _call_soon\n",
      "calling __init__\n",
      "calling get_debug\n",
      "calling debug\n",
      "calling _abort_queues\n",
      "calling flush\n",
      "calling update_flag\n",
      "calling sending\n",
      "calling empty\n",
      "calling _qsize\n",
      "calling register\n",
      "calling poll\n",
      "calling _handle_send\n",
      "calling get\n",
      "calling _get\n",
      "calling send_multipart\n",
      "calling _run_callback\n",
      "calling <lambda>\n",
      "calling __instancecheck__\n",
      "calling __subclasscheck__\n",
      "calling __subclasscheck__\n",
      "calling _rebuild_io_state\n",
      "calling receiving\n",
      "calling trait_defaults\n",
      "calling has_trait\n",
      "calling _get_trait_default_generator\n",
      "calling default\n",
      "calling validate\n",
      "calling schedule_dispatch\n",
      "calling put_nowait\n",
      "calling _consume_expired\n",
      "calling full\n",
      "calling maxsize\n",
      "calling __put_internal\n",
      "calling clear\n",
      "calling _put\n",
      "calling post_handler_hook\n",
      "calling signal\n",
      "calling _enum_to_int\n",
      "calling _int_to_enum\n",
      "calling _publish_status\n",
      "calling get_parent\n",
      "calling _topic\n",
      "calling send_multipart\n",
      "calling send_multipart\n",
      "calling process_one\n",
      "calling _warn_unawaited_coroutine\n",
      "calling __init__\n",
      "calling _showwarnmsg\n",
      "calling _showwarnmsg_impl\n",
      "calling _formatwarnmsg\n",
      "calling _formatwarnmsg_impl\n",
      "calling getline\n",
      "calling getlines\n",
      "calling get_object_traceback\n"
     ]
    },
    {
     "name": "stderr",
     "output_type": "stream",
     "text": [
      "/home/dboy/open_source/play_torch.fx/.venv/lib/python3.11/site-packages/ipykernel/kernelbase.py:545: RuntimeWarning: coroutine 'Kernel.process_one' was never awaited\n",
      "  await self.process_one()\n",
      "RuntimeWarning: Enable tracemalloc to get the object allocation traceback\n"
     ]
    }
   ],
   "source": [
    "prior = set_eval_frame(callback)\n",
    "print(foo(1, 2))\n",
    "set_eval_frame(prior)"
   ]
  },
  {
   "cell_type": "markdown",
   "id": "2d392b6e-af9e-4121-aeb9-d858226e6cad",
   "metadata": {
    "deletable": true,
    "editable": true,
    "frozen": false,
    "slideshow": {
     "slide_type": "subslide"
    },
    "tags": []
   },
   "source": [
    "## What's Next\n",
    "\n",
    "- Symbolic Tracing for `TorchDynamo`: `inductor`\n",
    "    - How to handle dynamic control flow?\n",
    "    - Graph Break\n",
    "        - spliting the computational graph into multiple subgraphs\n",
    "        - continuation functions\n",
    "    - Tracker API\n",
    "- `ExecuTorch`: PyTorch platform for edge devices\n",
    "    - Customizable code emit(?"
   ]
  },
  {
   "cell_type": "markdown",
   "id": "02c724f4-9e3f-4248-a1fb-b06800ba14f5",
   "metadata": {
    "deletable": true,
    "editable": true,
    "frozen": false,
    "slideshow": {
     "slide_type": "slide"
    },
    "tags": []
   },
   "source": [
    "## References\n",
    "\n",
    "- TorchDynamo\n",
    "    - https://www.youtube.com/watch?v=egZB5Uxki0I&ab_channel=EdwardZ.Yang%27sPyTorchandPL\n",
    "    - https://www.youtube.com/watch?v=5FNHwPIyHr8&ab_channel=PyTorch\n",
    "    - https://dev-discuss.pytorch.org/t/a-minimal-working-example-of-standalone-usage-for-dynamo-eval-frame/1525\n",
    "- `torch.fx`\n",
    "    - https://www.youtube.com/watch?v=TexdGMdQya4&ab_channel=Unify\n",
    "    - https://github.com/pytorch/examples/tree/main/fx"
   ]
  }
 ],
 "metadata": {
  "kernelspec": {
   "display_name": "play-torch",
   "language": "python",
   "name": "play-torch"
  },
  "language_info": {
   "codemirror_mode": {
    "name": "ipython",
    "version": 3
   },
   "file_extension": ".py",
   "mimetype": "text/x-python",
   "name": "python",
   "nbconvert_exporter": "python",
   "pygments_lexer": "ipython3",
   "version": "3.11.10"
  }
 },
 "nbformat": 4,
 "nbformat_minor": 5
}
