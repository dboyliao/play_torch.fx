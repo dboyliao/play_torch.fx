{
 "cells": [
  {
   "cell_type": "markdown",
   "id": "2d006a67-ad7e-4e0a-95f3-771c447dadb0",
   "metadata": {
    "deletable": true,
    "editable": true,
    "frozen": false,
    "slideshow": {
     "slide_type": "slide"
    },
    "tags": []
   },
   "source": [
    "# `TorchDynamo`\n",
    "## and (Maybe) PEP-523\n",
    "\n",
    "Dboy Liao"
   ]
  },
  {
   "cell_type": "markdown",
   "id": "3dd4db94-f339-47ec-9772-f0aba7776216",
   "metadata": {
    "deletable": true,
    "editable": true,
    "frozen": false,
    "slideshow": {
     "slide_type": "slide"
    },
    "tags": []
   },
   "source": [
    "## `TorchDynamo`"
   ]
  },
  {
   "cell_type": "markdown",
   "id": "e5714043-3633-44fb-8f8a-74bf03e84c6a",
   "metadata": {
    "deletable": true,
    "editable": true,
    "frozen": false,
    "slideshow": {
     "slide_type": "fragment"
    },
    "tags": []
   },
   "source": [
    "- What?\n",
    "   - What is `TorchDynamo`?\n",
    "   - What cat it do?"
   ]
  },
  {
   "cell_type": "markdown",
   "id": "0594e7c3-78bf-45eb-880d-4fb8934ef71c",
   "metadata": {
    "deletable": true,
    "editable": true,
    "frozen": false,
    "slideshow": {
     "slide_type": "fragment"
    },
    "tags": []
   },
   "source": [
    "- Why?"
   ]
  },
  {
   "cell_type": "markdown",
   "id": "390433a2-62cc-43a5-840e-c139b6c45ab9",
   "metadata": {
    "deletable": true,
    "editable": true,
    "frozen": false,
    "slideshow": {
     "slide_type": "fragment"
    },
    "tags": []
   },
   "source": [
    "- (Maybe) How?\n",
    "    - [PEP-523](https://peps.python.org/pep-0523/)"
   ]
  },
  {
   "cell_type": "markdown",
   "id": "cc1c80b2-e073-43dd-a3d4-22734beee9f0",
   "metadata": {
    "deletable": true,
    "editable": true,
    "frozen": false,
    "slideshow": {
     "slide_type": "subslide"
    },
    "tags": []
   },
   "source": [
    "## `TorchDynamo`: JIT Compiler Framework\n",
    "\n",
    "- The workhorse for `torch.compile` under the hook\n",
    "    - A Python-to-Python JIT compiler\n",
    "\n",
    "![torchdynamo-jit](img/torchdynamo_jit.drawio.svg)"
   ]
  },
  {
   "cell_type": "code",
   "execution_count": 1,
   "id": "6372bd5e-b629-4173-b24a-a0fef4ea34d0",
   "metadata": {
    "deletable": true,
    "editable": true,
    "execution": {
     "iopub.execute_input": "2024-11-04T13:28:51.756333Z",
     "iopub.status.busy": "2024-11-04T13:28:51.755009Z",
     "iopub.status.idle": "2024-11-04T13:28:55.337005Z",
     "shell.execute_reply": "2024-11-04T13:28:55.335374Z",
     "shell.execute_reply.started": "2024-11-04T13:28:51.756231Z"
    },
    "frozen": false,
    "slideshow": {
     "slide_type": "skip"
    },
    "tags": []
   },
   "outputs": [],
   "source": [
    "import torch"
   ]
  },
  {
   "cell_type": "code",
   "execution_count": 2,
   "id": "170996a0-5a9f-4470-8dce-ec66a7ac8b9c",
   "metadata": {
    "editable": true,
    "execution": {
     "iopub.execute_input": "2024-11-04T13:28:55.339408Z",
     "iopub.status.busy": "2024-11-04T13:28:55.338705Z",
     "iopub.status.idle": "2024-11-04T13:29:02.895635Z",
     "shell.execute_reply": "2024-11-04T13:29:02.894003Z",
     "shell.execute_reply.started": "2024-11-04T13:28:55.339345Z"
    },
    "slideshow": {
     "slide_type": "subslide"
    },
    "tags": []
   },
   "outputs": [],
   "source": [
    "# A toy example\n",
    "def foo(a: torch.Tensor, b: torch.Tensor):\n",
    "    return torch.add(a, b)\n",
    "\n",
    "# foo_ is compiled version of foo (JIT-enabled)\n",
    "foo_ = torch.compile(foo)"
   ]
  },
  {
   "cell_type": "code",
   "execution_count": 3,
   "id": "f7cf41aa-df34-428e-b3e8-c7afd1693702",
   "metadata": {
    "editable": true,
    "execution": {
     "iopub.execute_input": "2024-11-04T13:29:02.898182Z",
     "iopub.status.busy": "2024-11-04T13:29:02.897356Z",
     "iopub.status.idle": "2024-11-04T13:29:02.905751Z",
     "shell.execute_reply": "2024-11-04T13:29:02.904007Z",
     "shell.execute_reply.started": "2024-11-04T13:29:02.898118Z"
    },
    "slideshow": {
     "slide_type": "fragment"
    },
    "tags": []
   },
   "outputs": [],
   "source": [
    "a = torch.randn(3, 4)\n",
    "b = torch.randn(3, 4)"
   ]
  },
  {
   "cell_type": "code",
   "execution_count": 4,
   "id": "78730c91-f9fe-45ec-8691-169b516720e8",
   "metadata": {
    "editable": true,
    "execution": {
     "iopub.execute_input": "2024-11-04T13:29:02.911038Z",
     "iopub.status.busy": "2024-11-04T13:29:02.910479Z",
     "iopub.status.idle": "2024-11-04T13:29:02.942397Z",
     "shell.execute_reply": "2024-11-04T13:29:02.940766Z",
     "shell.execute_reply.started": "2024-11-04T13:29:02.910974Z"
    },
    "slideshow": {
     "slide_type": "subslide"
    },
    "tags": []
   },
   "outputs": [
    {
     "name": "stdout",
     "output_type": "stream",
     "text": [
      "CPU times: user 7 μs, sys: 1 μs, total: 8 μs\n",
      "Wall time: 14.5 μs\n"
     ]
    },
    {
     "data": {
      "text/plain": [
       "tensor([[ 2.1325, -1.3003,  0.0151, -1.1431],\n",
       "        [-0.7481, -0.5271, -0.2793,  0.3850],\n",
       "        [-0.2697,  0.3593, -2.1774,  0.4619]])"
      ]
     },
     "execution_count": 4,
     "metadata": {},
     "output_type": "execute_result"
    }
   ],
   "source": [
    "%time\n",
    "foo(a, b)"
   ]
  },
  {
   "cell_type": "code",
   "execution_count": 5,
   "id": "44b5dac3-1bb9-4337-a66b-655dab6fd0bd",
   "metadata": {
    "editable": true,
    "execution": {
     "iopub.execute_input": "2024-11-04T13:29:02.944761Z",
     "iopub.status.busy": "2024-11-04T13:29:02.944213Z",
     "iopub.status.idle": "2024-11-04T13:29:09.125530Z",
     "shell.execute_reply": "2024-11-04T13:29:09.123940Z",
     "shell.execute_reply.started": "2024-11-04T13:29:02.944700Z"
    },
    "slideshow": {
     "slide_type": "subslide"
    },
    "tags": []
   },
   "outputs": [
    {
     "name": "stdout",
     "output_type": "stream",
     "text": [
      "CPU times: user 6 μs, sys: 1 μs, total: 7 μs\n",
      "Wall time: 14.1 μs\n"
     ]
    },
    {
     "data": {
      "text/plain": [
       "tensor([[ 2.1325, -1.3003,  0.0151, -1.1431],\n",
       "        [-0.7481, -0.5271, -0.2793,  0.3850],\n",
       "        [-0.2697,  0.3593, -2.1774,  0.4619]])"
      ]
     },
     "execution_count": 5,
     "metadata": {},
     "output_type": "execute_result"
    }
   ],
   "source": [
    "%time\n",
    "foo_(a, b)"
   ]
  },
  {
   "cell_type": "code",
   "execution_count": 6,
   "id": "a7e94507-39df-4877-af6f-5b9ac77032d1",
   "metadata": {
    "editable": true,
    "execution": {
     "iopub.execute_input": "2024-11-04T13:29:09.127813Z",
     "iopub.status.busy": "2024-11-04T13:29:09.127154Z",
     "iopub.status.idle": "2024-11-04T13:29:09.141359Z",
     "shell.execute_reply": "2024-11-04T13:29:09.139878Z",
     "shell.execute_reply.started": "2024-11-04T13:29:09.127748Z"
    },
    "slideshow": {
     "slide_type": "fragment"
    },
    "tags": []
   },
   "outputs": [
    {
     "name": "stdout",
     "output_type": "stream",
     "text": [
      "CPU times: user 7 μs, sys: 1 μs, total: 8 μs\n",
      "Wall time: 15.5 μs\n"
     ]
    },
    {
     "data": {
      "text/plain": [
       "tensor([[ 2.1325, -1.3003,  0.0151, -1.1431],\n",
       "        [-0.7481, -0.5271, -0.2793,  0.3850],\n",
       "        [-0.2697,  0.3593, -2.1774,  0.4619]])"
      ]
     },
     "execution_count": 6,
     "metadata": {},
     "output_type": "execute_result"
    }
   ],
   "source": [
    "%time\n",
    "foo_(a, b)"
   ]
  },
  {
   "cell_type": "code",
   "execution_count": 7,
   "id": "6498ca3e-c6e1-4c6a-9861-8626702de094",
   "metadata": {
    "editable": true,
    "execution": {
     "iopub.execute_input": "2024-11-04T13:29:09.148683Z",
     "iopub.status.busy": "2024-11-04T13:29:09.147571Z",
     "iopub.status.idle": "2024-11-04T13:29:09.264358Z",
     "shell.execute_reply": "2024-11-04T13:29:09.262628Z",
     "shell.execute_reply.started": "2024-11-04T13:29:09.148617Z"
    },
    "slideshow": {
     "slide_type": "subslide"
    },
    "tags": []
   },
   "outputs": [
    {
     "name": "stderr",
     "output_type": "stream",
     "text": [
      "/home/dboy/open_source/play_torch.fx/.venv/lib/python3.11/site-packages/depyf/__init__.py:24: ResourceWarning: unclosed file <_io.TextIOWrapper name='/home/dboy/open_source/play_torch.fx/.venv/lib/python3.11/site-packages/depyf/VERSION.txt' mode='r' encoding='UTF-8'>\n",
      "  __version__ = open(f\"{os.path.dirname(__file__)}/VERSION.txt\").read().strip()\n",
      "ResourceWarning: Enable tracemalloc to get the object allocation traceback\n"
     ]
    }
   ],
   "source": [
    "from depyf import decompile\n",
    "from dis import dis\n",
    "from torch._dynamo.eval_frame import _debug_get_cache_entry_list, innermost_fn"
   ]
  },
  {
   "cell_type": "code",
   "execution_count": 8,
   "id": "f8013473-a9d6-4d47-9435-96ddf149add5",
   "metadata": {
    "editable": true,
    "execution": {
     "iopub.execute_input": "2024-11-04T13:29:09.266559Z",
     "iopub.status.busy": "2024-11-04T13:29:09.265988Z",
     "iopub.status.idle": "2024-11-04T13:29:09.274883Z",
     "shell.execute_reply": "2024-11-04T13:29:09.273156Z",
     "shell.execute_reply.started": "2024-11-04T13:29:09.266494Z"
    },
    "slideshow": {
     "slide_type": "subslide"
    },
    "tags": []
   },
   "outputs": [],
   "source": [
    "cache_entries = _debug_get_cache_entry_list(innermost_fn(foo_))\n",
    "cache_entry = cache_entries[0]\n",
    "guard, code = cache_entry.check_fn, cache_entry.code"
   ]
  },
  {
   "cell_type": "code",
   "execution_count": 9,
   "id": "a04ab5a7-789e-479b-aefb-41c5482ddca0",
   "metadata": {
    "editable": true,
    "execution": {
     "iopub.execute_input": "2024-11-04T13:29:09.277241Z",
     "iopub.status.busy": "2024-11-04T13:29:09.276427Z",
     "iopub.status.idle": "2024-11-04T13:29:09.289370Z",
     "shell.execute_reply": "2024-11-04T13:29:09.287896Z",
     "shell.execute_reply.started": "2024-11-04T13:29:09.277181Z"
    },
    "slideshow": {
     "slide_type": "subslide"
    },
    "tags": []
   },
   "outputs": [
    {
     "name": "stdout",
     "output_type": "stream",
     "text": [
      "def foo(a, b):\n",
      "    return torch.add(a, b)\n",
      "\n"
     ]
    }
   ],
   "source": [
    "print(decompile(foo.__code__))"
   ]
  },
  {
   "cell_type": "code",
   "execution_count": 10,
   "id": "c9a609cd-c3f5-4657-9b9b-6b8a7c08f858",
   "metadata": {
    "editable": true,
    "execution": {
     "iopub.execute_input": "2024-11-04T13:29:09.291416Z",
     "iopub.status.busy": "2024-11-04T13:29:09.290884Z",
     "iopub.status.idle": "2024-11-04T13:29:09.303575Z",
     "shell.execute_reply": "2024-11-04T13:29:09.301935Z",
     "shell.execute_reply.started": "2024-11-04T13:29:09.291352Z"
    },
    "slideshow": {
     "slide_type": "subslide"
    },
    "tags": []
   },
   "outputs": [
    {
     "name": "stdout",
     "output_type": "stream",
     "text": [
      "def foo(a, b):\n",
      "    __temp_3, = __compiled_fn_1(b, a)\n",
      "    return __temp_3\n",
      "\n"
     ]
    }
   ],
   "source": [
    "print(decompile(code))"
   ]
  },
  {
   "cell_type": "code",
   "execution_count": 11,
   "id": "4ba204f8-7ca1-4113-816a-6dedd563e3e7",
   "metadata": {
    "editable": true,
    "execution": {
     "iopub.execute_input": "2024-11-04T13:29:09.306053Z",
     "iopub.status.busy": "2024-11-04T13:29:09.305077Z",
     "iopub.status.idle": "2024-11-04T13:29:09.314105Z",
     "shell.execute_reply": "2024-11-04T13:29:09.312391Z",
     "shell.execute_reply.started": "2024-11-04T13:29:09.305995Z"
    },
    "slideshow": {
     "slide_type": "subslide"
    },
    "tags": []
   },
   "outputs": [],
   "source": [
    "fn = innermost_fn(__compiled_fn_1)"
   ]
  },
  {
   "cell_type": "code",
   "execution_count": 12,
   "id": "75da4e63-eee5-47f6-b387-be132c363334",
   "metadata": {
    "editable": true,
    "execution": {
     "iopub.execute_input": "2024-11-04T13:29:09.320841Z",
     "iopub.status.busy": "2024-11-04T13:29:09.319801Z",
     "iopub.status.idle": "2024-11-04T13:29:09.329702Z",
     "shell.execute_reply": "2024-11-04T13:29:09.328108Z",
     "shell.execute_reply.started": "2024-11-04T13:29:09.320780Z"
    },
    "slideshow": {
     "slide_type": "subslide"
    },
    "tags": []
   },
   "outputs": [
    {
     "name": "stdout",
     "output_type": "stream",
     "text": [
      "# AOT ID: ['0_inference']\n",
      "from ctypes import c_void_p, c_long, c_int\n",
      "import torch\n",
      "import math\n",
      "import random\n",
      "import os\n",
      "import tempfile\n",
      "from math import inf, nan\n",
      "from torch._inductor.hooks import run_intermediate_hooks\n",
      "from torch._inductor.utils import maybe_profile\n",
      "from torch._inductor.codegen.memory_planning import _align as align\n",
      "from torch import device, empty_strided\n",
      "from torch._inductor.async_compile import AsyncCompile\n",
      "from torch._inductor.select_algorithm import extern_kernels\n",
      "from torch._inductor.codegen.multi_kernel import MultiKernelCall\n",
      "\n",
      "aten = torch.ops.aten\n",
      "inductor_ops = torch.ops.inductor\n",
      "_quantized = torch.ops._quantized\n",
      "assert_size_stride = torch._C._dynamo.guards.assert_size_stride\n",
      "empty_strided_cpu = torch._C._dynamo.guards._empty_strided_cpu\n",
      "empty_strided_cuda = torch._C._dynamo.guards._empty_strided_cuda\n",
      "empty_strided_xpu = torch._C._dynamo.guards._empty_strided_xpu\n",
      "reinterpret_tensor = torch._C._dynamo.guards._reinterpret_tensor\n",
      "alloc_from_pool = torch.ops.inductor._alloc_from_pool\n",
      "async_compile = AsyncCompile()\n",
      "\n",
      "\n",
      "cpp_fused_add_0 = async_compile.cpp_pybinding(['const float*', 'const float*', 'float*'], '''\n",
      "#include \"/tmp/torchinductor_dboy/vu/cvuvp4i7roujum4xemrfwnb3t4c5t3r3mihr4b7iegh6tcqvdg43.h\"\n",
      "extern \"C\"  void kernel(const float* in_ptr0,\n",
      "                       const float* in_ptr1,\n",
      "                       float* out_ptr0)\n",
      "{\n",
      "    {\n",
      "        for(int64_t x0=static_cast<int64_t>(0L); x0<static_cast<int64_t>(8L); x0+=static_cast<int64_t>(8L))\n",
      "        {\n",
      "            auto tmp0 = at::vec::Vectorized<float>::loadu(in_ptr0 + static_cast<int64_t>(x0), static_cast<int64_t>(8));\n",
      "            auto tmp1 = at::vec::Vectorized<float>::loadu(in_ptr1 + static_cast<int64_t>(x0), static_cast<int64_t>(8));\n",
      "            auto tmp2 = tmp0 + tmp1;\n",
      "            tmp2.store(out_ptr0 + static_cast<int64_t>(x0));\n",
      "        }\n",
      "        for(int64_t x0=static_cast<int64_t>(8L); x0<static_cast<int64_t>(12L); x0+=static_cast<int64_t>(4L))\n",
      "        {\n",
      "            auto tmp0 = at::vec::Vectorized<float>::loadu(in_ptr0 + static_cast<int64_t>(x0), static_cast<int64_t>(4L));\n",
      "            auto tmp1 = at::vec::Vectorized<float>::loadu(in_ptr1 + static_cast<int64_t>(x0), static_cast<int64_t>(4L));\n",
      "            auto tmp2 = tmp0 + tmp1;\n",
      "            tmp2.store(out_ptr0 + static_cast<int64_t>(x0), static_cast<int64_t>(4L));\n",
      "        }\n",
      "    }\n",
      "}\n",
      "''')\n",
      "\n",
      "\n",
      "async_compile.wait(globals())\n",
      "del async_compile\n",
      "\n",
      "def call(args):\n",
      "    arg0_1, arg1_1 = args\n",
      "    args.clear()\n",
      "    assert_size_stride(arg0_1, (3, 4), (4, 1))\n",
      "    assert_size_stride(arg1_1, (3, 4), (4, 1))\n",
      "    buf0 = empty_strided_cpu((3, 4), (4, 1), torch.float32)\n",
      "    cpp_fused_add_0(arg1_1, arg0_1, buf0)\n",
      "    del arg0_1\n",
      "    del arg1_1\n",
      "    return (buf0, )\n",
      "\n",
      "\n",
      "def benchmark_compiled_module(times=10, repeat=10):\n",
      "    from torch._dynamo.testing import rand_strided\n",
      "    from torch._inductor.utils import print_performance\n",
      "    arg0_1 = rand_strided((3, 4), (4, 1), device='cpu', dtype=torch.float32)\n",
      "    arg1_1 = rand_strided((3, 4), (4, 1), device='cpu', dtype=torch.float32)\n",
      "    fn = lambda: call([arg0_1, arg1_1])\n",
      "    return print_performance(fn, times=times, repeat=repeat)\n",
      "\n",
      "\n",
      "if __name__ == \"__main__\":\n",
      "    from torch._inductor.wrapper_benchmark import compiled_module_main\n",
      "    compiled_module_main('None', benchmark_compiled_module)\n",
      "\n"
     ]
    }
   ],
   "source": [
    "print(fn.__closure__[0].cell_contents.__closure__[0].cell_contents.__closure__[0].cell_contents.__closure__[0].cell_contents.source_code)"
   ]
  }
 ],
 "metadata": {
  "kernelspec": {
   "display_name": "play-torch",
   "language": "python",
   "name": "play-torch"
  },
  "language_info": {
   "codemirror_mode": {
    "name": "ipython",
    "version": 3
   },
   "file_extension": ".py",
   "mimetype": "text/x-python",
   "name": "python",
   "nbconvert_exporter": "python",
   "pygments_lexer": "ipython3",
   "version": "3.11.10"
  }
 },
 "nbformat": 4,
 "nbformat_minor": 5
}
